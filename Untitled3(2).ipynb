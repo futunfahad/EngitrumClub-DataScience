{
  "nbformat": 4,
  "nbformat_minor": 0,
  "metadata": {
    "colab": {
      "provenance": []
    },
    "kernelspec": {
      "name": "python3",
      "display_name": "Python 3"
    },
    "language_info": {
      "name": "python"
    }
  },
  "cells": [
    {
      "cell_type": "markdown",
      "source": [
        "# week 2 goals\n",
        "1. sets\n",
        "2. condition and branching \n",
        "3. loops \n",
        "4. functions \n",
        "5. Exceptions Handling \n",
        "6. Objects and classes \n",
        "\n",
        "\n"
      ],
      "metadata": {
        "id": "BtynYgzIvU8k"
      }
    },
    {
      "cell_type": "markdown",
      "source": [
        "## sets\n",
        "sets it a type of data collections that is unordered and mutable. it is wrapped with {} with multiple values separated by \",\".\n",
        "at only has unique values and automatically deletes identical values\n",
        "\n",
        "#### creating a set\n",
        "\n"
      ],
      "metadata": {
        "id": "W1VrCg5rwRzE"
      }
    },
    {
      "cell_type": "code",
      "source": [
        "set1={\"one\",\"two\",\"three\",\"three\"}\n",
        "set1"
      ],
      "metadata": {
        "colab": {
          "base_uri": "https://localhost:8080/"
        },
        "id": "4LvaJ8mAzQvW",
        "outputId": "8b6ccee0-bcf9-4f0e-f51c-97fec93a18eb"
      },
      "execution_count": 3,
      "outputs": [
        {
          "output_type": "execute_result",
          "data": {
            "text/plain": [
              "{'one', 'three', 'two'}"
            ]
          },
          "metadata": {},
          "execution_count": 3
        }
      ]
    },
    {
      "cell_type": "markdown",
      "source": [],
      "metadata": {
        "id": "llo5OTS_0F3R"
      }
    }
  ]
}