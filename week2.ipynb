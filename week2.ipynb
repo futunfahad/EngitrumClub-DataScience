{
  "nbformat": 4,
  "nbformat_minor": 0,
  "metadata": {
    "colab": {
      "provenance": [],
      "toc_visible": true
    },
    "kernelspec": {
      "name": "python3",
      "display_name": "Python 3"
    },
    "language_info": {
      "name": "python"
    }
  },
  "cells": [
    {
      "cell_type": "markdown",
      "source": [
        "# week 2 goals\n",
        "1. sets\n",
        "2. condition and branching \n",
        "3. loops \n",
        "4. functions \n",
        "5. Exceptions Handling \n",
        "6. Objects and classes \n",
        "\n",
        "\n"
      ],
      "metadata": {
        "id": "BtynYgzIvU8k"
      }
    },
    {
      "cell_type": "markdown",
      "source": [
        "## sets\n",
        "sets it a type of data collections that is unordered and mutable. it is wrapped with {} with multiple values separated by \",\".\n",
        "at only has unique values and automatically deletes identical values\n",
        "\n",
        "\n"
      ],
      "metadata": {
        "id": "W1VrCg5rwRzE"
      }
    },
    {
      "cell_type": "code",
      "source": [
        "set1={\"one\",\"two\",\"three\",\"three\"}\n",
        "set2={\"three\",\"four\",\"five\"}\n",
        "print(\"set 1 is :\", set1) # the repeated three will become only one\n",
        "\n",
        "\n",
        "# adding and removing items\n",
        "set1.add(\"four\")\n",
        "set2.remove(\"five\")\n",
        "print(\"is one the set1?\",\"one\"  in set1)\n",
        "\n",
        "# what value is in both set1 and set2\n",
        "setintersection=set1&set2\n",
        "print(\"the intersection between set1 and set2 : \",setintersection)\n",
        "print(\"another way to display intersection between set1 and set2 :\",set1.intersection(set2) )\n",
        "\n",
        "# what is in set1 but not in set2\n",
        "difference=set1.difference(set2)\n",
        "print(\"what is in set1 but not in set2: \",difference)\n",
        "\n",
        "# all the items in set1 or set2 \n",
        "unionset=set1.union(set2)\n",
        "print(\"all the items in set1 or set2:\",unionset)\n",
        "\n",
        "\n",
        "# is a set a subset or a superset of a given set\n",
        "smallset={\"one\"}\n",
        "print(\"is smallset a subset of set1:\",smallset.issubset(set1))\n",
        "print(\"is set1 a superset of smallset:\",set1.issuperset(smallset))\n",
        "\n",
        "\n"
      ],
      "metadata": {
        "colab": {
          "base_uri": "https://localhost:8080/"
        },
        "id": "4LvaJ8mAzQvW",
        "outputId": "0b38aca4-c2aa-453f-8247-9eba70afdeab"
      },
      "execution_count": null,
      "outputs": [
        {
          "output_type": "stream",
          "name": "stdout",
          "text": [
            "set 1 is : {'two', 'one', 'three'}\n",
            "is one the set1? True\n",
            "the intersection between set1 and set2 :  {'three', 'four'}\n",
            "another way to display intersection between set1 and set2 : {'three', 'four'}\n",
            "what is in set1 but not in set2:  {'two', 'one'}\n",
            "all the items in set1 or set2: {'one', 'four', 'two', 'three'}\n",
            "is smallset a subset of set1: True\n",
            "is set1 a superset of smallset: True\n"
          ]
        }
      ]
    },
    {
      "cell_type": "markdown",
      "source": [
        "## condition and branching\n",
        "conditions change the flow of execution based on the result of the condtion (either true or false ), making the code branch to diffrent instructions."
      ],
      "metadata": {
        "id": "PWmKYZvGE-Eo"
      }
    },
    {
      "cell_type": "code",
      "source": [
        "# a code that branches based on true or false statement\n",
        "x=2\n",
        "if x>0:\n",
        "    print(\"x is a number bigger than 0\")\n",
        "else:\n",
        "    print(\"x is a number smaller than or is  0\")\n",
        "\n",
        "\n",
        "# a code that tests multiple conditions\n",
        "y=0\n",
        "if y>0:\n",
        "    print(\"y is a number bigger than 0\")\n",
        "elif y==0:\n",
        "    print(\"y is zero\")\n",
        "else:\n",
        "    print(\"y is a number smaller than 0\")\n"
      ],
      "metadata": {
        "colab": {
          "base_uri": "https://localhost:8080/"
        },
        "id": "NyVR6qf9XGoy",
        "outputId": "b2a241e3-7419-441d-faa1-319cfb030599"
      },
      "execution_count": null,
      "outputs": [
        {
          "output_type": "stream",
          "name": "stdout",
          "text": [
            "x is a number bigger than 0\n",
            "y is zero\n"
          ]
        }
      ]
    },
    {
      "cell_type": "markdown",
      "source": [
        "## loops\n",
        "a block of code that keeps repeating.there are two types of loops\n",
        "* while loop: keeps repeating the body untill a certin condation is not  met.\n",
        "* for loop: iterates over a list through each item, as in the number of attrations is len(list), and with each iteration it stores the next item of the list.\n",
        "\n"
      ],
      "metadata": {
        "id": "pckUv9goYIP4"
      }
    },
    {
      "cell_type": "code",
      "source": [
        "#count from 0 to 10\n",
        "x=0\n",
        "while x <= 3:\n",
        "    print(x)\n",
        "    x+=1\n"
      ],
      "metadata": {
        "colab": {
          "base_uri": "https://localhost:8080/"
        },
        "id": "N8OoVlR_akpQ",
        "outputId": "acda321d-2921-4b49-cf83-c5fc48a3996e"
      },
      "execution_count": 2,
      "outputs": [
        {
          "output_type": "stream",
          "name": "stdout",
          "text": [
            "0\n",
            "1\n",
            "2\n",
            "3\n"
          ]
        }
      ]
    },
    {
      "cell_type": "code",
      "source": [
        "#print each item in a list\n",
        "i=0\n",
        "y=[\"one\",\"two\",\"three\",\"four\"]\n",
        "for item in y:\n",
        "    print(f\"the item in the index {i} is {item}\")\n",
        "    i+=1 \n"
      ],
      "metadata": {
        "colab": {
          "base_uri": "https://localhost:8080/"
        },
        "id": "dJPaQHTtprSD",
        "outputId": "86073415-f30d-46ac-ef44-3bd185a4b4a5"
      },
      "execution_count": 3,
      "outputs": [
        {
          "output_type": "stream",
          "name": "stdout",
          "text": [
            "the item in the index 0 is one\n",
            "the item in the index 1 is two\n",
            "the item in the index 2 is three\n",
            "the item in the index 3 is four\n"
          ]
        }
      ]
    },
    {
      "cell_type": "code",
      "source": [
        "#range gives us a list of numbers\n",
        "for num in range(2,5):\n",
        "    print(\"counting using range: \",num )\n"
      ],
      "metadata": {
        "colab": {
          "base_uri": "https://localhost:8080/"
        },
        "id": "hl0GiuqQpswT",
        "outputId": "b6a85a8a-5579-414a-ac35-6bec8a79b882"
      },
      "execution_count": 4,
      "outputs": [
        {
          "output_type": "stream",
          "name": "stdout",
          "text": [
            "counting using range:  2\n",
            "counting using range:  3\n",
            "counting using range:  4\n"
          ]
        }
      ]
    },
    {
      "cell_type": "code",
      "source": [
        "#enumerate gives us a tuple with the index and the value in it \n",
        "y=[\"one\",\"two\",\"three\",\"four\"]\n",
        "for index,item in enumerate(y):\n",
        "    print(f\" index is {index}, the item is {item}\")\n",
        "\n"
      ],
      "metadata": {
        "colab": {
          "base_uri": "https://localhost:8080/"
        },
        "id": "SX4KaXwbps3d",
        "outputId": "b87efc1b-bbaf-4cf3-fba1-689447cb9433"
      },
      "execution_count": 5,
      "outputs": [
        {
          "output_type": "stream",
          "name": "stdout",
          "text": [
            " index is 0, the item is one\n",
            " index is 1, the item is two\n",
            " index is 2, the item is three\n",
            " index is 3, the item is four\n"
          ]
        }
      ]
    },
    {
      "cell_type": "markdown",
      "source": [
        "## functions\n",
        "is reusable block code that you can give parameters to use in its processes.\n",
        "there is two types of functions.\n",
        "* Predefined functions: they already exist you can use them directly\n",
        "* User-defined functions: the function you write. \n",
        "  * Functions with no argument and no return value\n",
        "  * Functions with no argument but a return value\n",
        "  * Functions with argument but no return value\n",
        "  * Functions with argument and a return value\n"
      ],
      "metadata": {
        "id": "_NhvpC13cHUo"
      }
    },
    {
      "cell_type": "code",
      "source": [
        "#Functions with no argument and no return value\n",
        "def mew():\n",
        "    print(\"mew\")\n",
        "\n",
        "#Functions with no argument but a return value\n",
        "def listofnums():\n",
        "    y=[\"one\",\"two\",\"three\",\"four\"]\n",
        "    return y\n",
        "\n",
        "#Functions with argument but no return value\n",
        "def printsum(p1,p2):\n",
        "    print(p1+p2)\n",
        "\n",
        "#Functions with argument and a return value\n",
        "def returnsum(p1,p2):\n",
        "    return p1+p2"
      ],
      "metadata": {
        "id": "INJcyTvtfXan"
      },
      "execution_count": 7,
      "outputs": []
    },
    {
      "cell_type": "code",
      "source": [
        "mew()\n",
        "x= listofnums()\n",
        "print(\"x is \",x)\n",
        "printsum(1,2)\n",
        "y=returnsum(4,2)\n",
        "print(\"y is \",y)\n"
      ],
      "metadata": {
        "colab": {
          "base_uri": "https://localhost:8080/"
        },
        "id": "_l_dg4S2gdii",
        "outputId": "e866bf00-2765-497f-96b3-9eaf1a8b17e5"
      },
      "execution_count": 8,
      "outputs": [
        {
          "output_type": "stream",
          "name": "stdout",
          "text": [
            "mew\n",
            "x is  ['one', 'two', 'three', 'four']\n",
            "3\n",
            "y is  6\n"
          ]
        }
      ]
    },
    {
      "cell_type": "markdown",
      "source": [
        "####**documenting a function.**\n",
        " you should document your function to make it clear\n",
        "* what does the functions do\n",
        "*  what the argemnts are \n",
        "* what does it return"
      ],
      "metadata": {
        "id": "hchOyU89sbj0"
      }
    },
    {
      "cell_type": "code",
      "source": [
        "def sub(x, y):\n",
        "    \"\"\"\n",
        "    subtract two integers\n",
        "    Arguments:\n",
        "        x: an integer\n",
        "        y: an integer\n",
        "    Returns:\n",
        "        The sub of the two integer arguments\n",
        "    \"\"\"\n",
        "    return x - y"
      ],
      "metadata": {
        "id": "EHG0Hb2is5dA"
      },
      "execution_count": 9,
      "outputs": []
    },
    {
      "cell_type": "markdown",
      "source": [
        "###function parameters\n",
        "a function parameter can be a single argument, a tuple,a dictionary, a default value.\n",
        "\n",
        "\n"
      ],
      "metadata": {
        "id": "24XbgHQrxfWG"
      }
    },
    {
      "cell_type": "code",
      "source": [
        "#a single argument \n",
        "def argsingle(arg):\n",
        "    print(\"arg= \",arg)\n",
        "argsingle(1)\n",
        "\n",
        "# a tupple of arguments start with a *\n",
        "def argtuple(*arg):\n",
        "    print(\"*arg= \",arg)\n",
        "argtuple(1,2,3)\n",
        "\n",
        "# a list of arguments start with a **\n",
        "def argdict(**arg):\n",
        "    print(f\"**arg= {arg} \\n    arg.keys(): {arg.keys()} \\n    arg.values(): {arg.values()}\")\n",
        "argdict(name=\"tony\",salary=2000)\n",
        "\n",
        "def argdefault(arg=\"default\"):\n",
        "    print(\"arg=\",arg)\n",
        "argdefault()"
      ],
      "metadata": {
        "colab": {
          "base_uri": "https://localhost:8080/"
        },
        "id": "dVTEdpUkyR0s",
        "outputId": "1be8d155-2751-4319-f029-416e9033e1b7"
      },
      "execution_count": 7,
      "outputs": [
        {
          "output_type": "stream",
          "name": "stdout",
          "text": [
            "arg=  1\n",
            "*arg=  (1, 2, 3)\n",
            "**arg= {'name': 'tony', 'salary': 2000} \n",
            "    arg.keys(): dict_keys(['name', 'salary']) \n",
            "    arg.values(): dict_values(['tony', 2000])\n",
            "arg= default\n"
          ]
        }
      ]
    },
    {
      "cell_type": "markdown",
      "source": [
        " ## Exception Handling\n",
        "sometimes an error occurres when executing the instructions. if an error accours and is not properly handled the program will crash. if a block of code has a high probability of an error accouring you can use the try..except statment to handle the error properly.\n"
      ],
      "metadata": {
        "id": "pedbtYVK1TvP"
      }
    },
    {
      "cell_type": "markdown",
      "source": [
        "### syntax of the try..except statment "
      ],
      "metadata": {
        "id": "fPvwCoUj61J7"
      }
    },
    {
      "cell_type": "code",
      "source": [
        "#catch all error\n",
        "try:\n",
        "    pass\n",
        "except :\n",
        "    pass\n",
        "\n",
        "#do the code in the finally block even if an error occurs\n",
        "try:\n",
        "    pass\n",
        "except :\n",
        "    pass\n",
        "finally:\n",
        "    pass\n",
        "\n",
        "#if no error occurs do the else block\n",
        "try:\n",
        "    pass\n",
        "except :\n",
        "    pass\n",
        "else:\n",
        "    pass"
      ],
      "metadata": {
        "id": "aQyMabRH65RF"
      },
      "execution_count": 29,
      "outputs": []
    },
    {
      "cell_type": "markdown",
      "source": [
        "### different types of exceptions:"
      ],
      "metadata": {
        "id": "Iuu-qcFl6-ke"
      }
    },
    {
      "cell_type": "code",
      "source": [
        "#you can't divide by zero\n",
        "try:\n",
        "    print(1/0)\n",
        "except ZeroDivisionError:\n",
        "    print(\"you cant devide by zero\")\n",
        "\n",
        "#you can't use a variable that is not defined yet\n",
        "try:\n",
        "    y = a\n",
        "except NameError:\n",
        "    print(\"you can't use a variable that is not defined yet\")\n",
        "\n",
        "#you can't call an index that doesn't exist\n",
        "try:\n",
        "    x=[1,2,3]\n",
        "    print(x[10])\n",
        "except IndexError:\n",
        "    print(\"you can't call an index that doesn't exist\")"
      ],
      "metadata": {
        "colab": {
          "base_uri": "https://localhost:8080/"
        },
        "id": "ggY5yByM7CQ8",
        "outputId": "79ac78fd-5b50-4b7a-ca43-fbb28c337c62"
      },
      "execution_count": 13,
      "outputs": [
        {
          "output_type": "stream",
          "name": "stdout",
          "text": [
            "you cant devide by zero\n",
            "you can't use a variable that is not defined yet\n",
            "you can't call an index that doesn't exist\n"
          ]
        }
      ]
    },
    {
      "cell_type": "markdown",
      "source": [
        "### raise an exceptions \n",
        "you can raise your own custom exception"
      ],
      "metadata": {
        "id": "pDi8w2-79V2G"
      }
    },
    {
      "cell_type": "code",
      "source": [
        "x=-1\n",
        "if x<0:\n",
        "  raise Exception(\"Sorry, no numbers below zero\") "
      ],
      "metadata": {
        "colab": {
          "base_uri": "https://localhost:8080/",
          "height": 234
        },
        "id": "_IL0Q_IH9gMc",
        "outputId": "05be6cc7-d61e-47cd-bb1d-a6beb3a02649"
      },
      "execution_count": 5,
      "outputs": [
        {
          "output_type": "error",
          "ename": "Exception",
          "evalue": "ignored",
          "traceback": [
            "\u001b[0;31m---------------------------------------------------------------------------\u001b[0m",
            "\u001b[0;31mException\u001b[0m                                 Traceback (most recent call last)",
            "\u001b[0;32m<ipython-input-5-479fc3135962>\u001b[0m in \u001b[0;36m<cell line: 2>\u001b[0;34m()\u001b[0m\n\u001b[1;32m      1\u001b[0m \u001b[0mx\u001b[0m\u001b[0;34m=\u001b[0m\u001b[0;34m-\u001b[0m\u001b[0;36m1\u001b[0m\u001b[0;34m\u001b[0m\u001b[0;34m\u001b[0m\u001b[0m\n\u001b[1;32m      2\u001b[0m \u001b[0;32mif\u001b[0m \u001b[0mx\u001b[0m\u001b[0;34m<\u001b[0m\u001b[0;36m0\u001b[0m\u001b[0;34m:\u001b[0m\u001b[0;34m\u001b[0m\u001b[0;34m\u001b[0m\u001b[0m\n\u001b[0;32m----> 3\u001b[0;31m   \u001b[0;32mraise\u001b[0m \u001b[0mException\u001b[0m\u001b[0;34m(\u001b[0m\u001b[0;34m\"Sorry, no numbers below zero\"\u001b[0m\u001b[0;34m)\u001b[0m\u001b[0;34m\u001b[0m\u001b[0;34m\u001b[0m\u001b[0m\n\u001b[0m",
            "\u001b[0;31mException\u001b[0m: Sorry, no numbers below zero"
          ]
        }
      ]
    },
    {
      "cell_type": "markdown",
      "source": [
        "## Objects and classes\n",
        "an object has a \n",
        "* type:what class it belongs to\n",
        "* internal data repsentation \n",
        "* method:set of procedures that interact with the object\n",
        "\n",
        "an object is an instance of a class\n",
        "a class is a blue print to build an object. it has a \n",
        "* data attributes \n",
        "* methods"
      ],
      "metadata": {
        "id": "Ty9bUqpdMNv6"
      }
    },
    {
      "cell_type": "markdown",
      "source": [
        "### class constructor\n",
        "a special type of function called to create an object. it is used to initialize the attributes of the object. even if you don't write it, it will be generated automatically.\n"
      ],
      "metadata": {
        "id": "DSzVvwBUTGNx"
      }
    },
    {
      "cell_type": "code",
      "source": [
        "class rectangle():\n",
        "    def __init__(self,height,width): #the attributes\n",
        "            self.height=height\n",
        "            self.width=width\n",
        "shape1=rectangle(1,2) #create an object\n",
        "print(f\"height:{shape1.height}\\nwidth:{shape1.width}\")"
      ],
      "metadata": {
        "colab": {
          "base_uri": "https://localhost:8080/"
        },
        "id": "CViB8VKFWNYz",
        "outputId": "f09d10fd-5c9d-425c-a06e-32ed807568ca"
      },
      "execution_count": 18,
      "outputs": [
        {
          "output_type": "stream",
          "name": "stdout",
          "text": [
            "height:1\n",
            "width:2\n"
          ]
        }
      ]
    },
    {
      "cell_type": "markdown",
      "source": [
        "you can change the attribute after making the object"
      ],
      "metadata": {
        "id": "KIe60XzsXSCx"
      }
    },
    {
      "cell_type": "code",
      "source": [
        "shape1.height=100\n",
        "print(shape1.height)"
      ],
      "metadata": {
        "colab": {
          "base_uri": "https://localhost:8080/"
        },
        "id": "pX_pSOHbXXpZ",
        "outputId": "bb762195-76ad-4907-b2a0-b91e496d2e7c"
      },
      "execution_count": 17,
      "outputs": [
        {
          "output_type": "stream",
          "name": "stdout",
          "text": [
            "100\n"
          ]
        }
      ]
    },
    {
      "cell_type": "markdown",
      "source": [
        "### methodes\n",
        "defining metheds the same way as defining a  function "
      ],
      "metadata": {
        "id": "p5BhFgrGXu3V"
      }
    },
    {
      "cell_type": "code",
      "source": [
        "class rectangle():\n",
        "    def __init__(self,height,width): #the attributes\n",
        "            self.height=height\n",
        "            self.width=width\n",
        "    def area(self): #the method\n",
        "      return (self.height * self.width)\n",
        "shape1 = rectangle(3,2) #create an object\n",
        "print(shape1.area())"
      ],
      "metadata": {
        "colab": {
          "base_uri": "https://localhost:8080/"
        },
        "id": "LM14MvEkYYs2",
        "outputId": "63ac164d-3fc8-4056-a4d7-5003944877f7"
      },
      "execution_count": 22,
      "outputs": [
        {
          "output_type": "stream",
          "name": "stdout",
          "text": [
            "6\n"
          ]
        }
      ]
    },
    {
      "cell_type": "markdown",
      "source": [
        "you can find the methods in an object through dir()"
      ],
      "metadata": {
        "id": "rVA0LAc6emAA"
      }
    },
    {
      "cell_type": "code",
      "source": [
        "dir(shape1)"
      ],
      "metadata": {
        "colab": {
          "base_uri": "https://localhost:8080/"
        },
        "id": "LhnqQmfFewpQ",
        "outputId": "771fbf26-c378-46e3-a16c-936fcad876cd"
      },
      "execution_count": 34,
      "outputs": [
        {
          "output_type": "execute_result",
          "data": {
            "text/plain": [
              "['__class__',\n",
              " '__delattr__',\n",
              " '__dict__',\n",
              " '__dir__',\n",
              " '__doc__',\n",
              " '__eq__',\n",
              " '__format__',\n",
              " '__ge__',\n",
              " '__getattribute__',\n",
              " '__gt__',\n",
              " '__hash__',\n",
              " '__init__',\n",
              " '__init_subclass__',\n",
              " '__le__',\n",
              " '__lt__',\n",
              " '__module__',\n",
              " '__ne__',\n",
              " '__new__',\n",
              " '__reduce__',\n",
              " '__reduce_ex__',\n",
              " '__repr__',\n",
              " '__setattr__',\n",
              " '__sizeof__',\n",
              " '__str__',\n",
              " '__subclasshook__',\n",
              " '__weakref__',\n",
              " 'area',\n",
              " 'height',\n",
              " 'width']"
            ]
          },
          "metadata": {},
          "execution_count": 34
        }
      ]
    },
    {
      "cell_type": "markdown",
      "source": [
        "### class inheritance\n",
        "a class can inherit the attributes and methods of its parent class"
      ],
      "metadata": {
        "id": "R_W3v4JcRnmS"
      }
    },
    {
      "cell_type": "code",
      "source": [
        "class kidrectangle(rectangle):\n",
        "  pass\n",
        "\n",
        "shape2 = kidrectangle(5,2)\n",
        "shape2.height"
      ],
      "metadata": {
        "colab": {
          "base_uri": "https://localhost:8080/"
        },
        "id": "JcWsaOi1RZe3",
        "outputId": "8a767149-7f09-48b7-d923-fb2d8745baff"
      },
      "execution_count": 35,
      "outputs": [
        {
          "output_type": "execute_result",
          "data": {
            "text/plain": [
              "1"
            ]
          },
          "metadata": {},
          "execution_count": 35
        }
      ]
    },
    {
      "cell_type": "markdown",
      "source": [
        "## project\n",
        "my project will be a resturent. it will focuses on \n",
        "* what is in the meal\n",
        "* a point system\n",
        "* care for allergies"
      ],
      "metadata": {
        "id": "XlJGskC7-4-L"
      }
    },
    {
      "cell_type": "markdown",
      "source": [
        "the meal class \n",
        "* attributes: name, price, ingredients\n",
        "* methods: remove_ingredients\n",
        "\n",
        "the order class\n",
        "* attributes: note,orders,name,totalprice\n",
        "* methods: (remove_ing) to remove any ingredients that the customers is allergic to. (receipt) to print the receipt. (pay) to process the payment  "
      ],
      "metadata": {
        "id": "pfRZdvog1Tur"
      }
    },
    {
      "cell_type": "code",
      "source": [
        "available_ingredients=[]\n",
        "customers={}\n",
        "class meal():\n",
        "    def __init__(self,name,price,ingredients):\n",
        "        menu.append([name,self])\n",
        "        self.name=name\n",
        "        self.price=price\n",
        "        self.ingredients=ingredients\n",
        "        available_ingredients.extend(ingredients)\n",
        "    def remove_ingredients(self,sub):\n",
        "        self.ingredients.remove(sub)\n",
        "\n",
        "class order():\n",
        "    def __init__(self,customer,orders,note,allergy):\n",
        "            self.note=note\n",
        "            self.orders=orders\n",
        "            self.customer=customer\n",
        "            self.totalprice=0\n",
        "            for a in orders:\n",
        "                  self.totalprice+=a.price\n",
        "            self.remove_ing(allergy)\n",
        "    def remove_ing(self,ing):\n",
        "          for order in self.orders:\n",
        "                for i in ing:\n",
        "                    for orderin in order.ingredients:\n",
        "                      if orderin==i:\n",
        "                        order.remove_ingredients(orderin)\n",
        "                \n",
        "    def receipt(self):\n",
        "          print(f\"name:{self.customer}\\norder:\")\n",
        "          for order in self.orders:\n",
        "               print(f\"{order.name}: {order.ingredients}\")\n",
        "          print(f\"price: {self.totalprice}\\npoints: {customers[self.customer]} \\nnote  ''{self.note}'' \")\n",
        "    def pay(self,cash):\n",
        "            if cash>=self.totalprice:\n",
        "                cash-=self.totalprice\n",
        "                try:\n",
        "                      points=int(self.totalprice/2)\n",
        "                      customers[self.customer]+=points\n",
        "                except KeyError:\n",
        "                     customers[self.customer]=points   \n",
        "                print(f\"thanks for your order! take the change {cash}$\")\n",
        "                self.receipt()\n",
        "            else:\n",
        "                  print(\"you dont have enough cash :(\")\n",
        "                \n",
        "        \n",
        "\n",
        "\n",
        "busy=True\n",
        "while busy:\n",
        "    menu=[]\n",
        "    burger=meal(\"burger\",20,[\"meat\",\"lettuce\",\"bun\",\"kitchup\"])\n",
        "    milkshake=meal(\"milkshake\",10,[\"milk\",\"strawberry\",\"penut\"])\n",
        "    salad=meal(\"salad\",15,[\"tomato\",\"lemon\",\"lettuce\",\"cucumber\"])\n",
        "    name=input(\"what is your name? \")\n",
        "    exit=False\n",
        "    orders=[]\n",
        "    answer=0\n",
        "    while True:\n",
        "        print(\"our menu is\")\n",
        "        for index in range(len(menu)):\n",
        "            print(f\" {index} for {menu[index][0]}. price {menu[index][1].price}$\")\n",
        "        answer=int(input(\" -1 to exit \\n\"))\n",
        "        if answer==-1:\n",
        "            break\n",
        "        elif answer>=len(menu):\n",
        "            print(\"your order is not on the menu\")\n",
        "        else:\n",
        "            orders.append(menu[answer][1])\n",
        "    allergys=[]\n",
        "    allergy=''\n",
        "    print(\"type your allergy, then exit \")\n",
        "    while True:\n",
        "         allergy=input()\n",
        "         if allergy==\"exit\":\n",
        "              break\n",
        "         allergys.append(allergy)\n",
        "    note=input(\"add a note: \")\n",
        "    order1=order(name,orders,note,allergys)\n",
        "    cash=int(input(\"your order is ready. please pay: \"))\n",
        "    \n",
        "    order1.pay(cash)\n",
        "\n",
        "    busy= True if ((input(\"type y of resturent is busy: \"))==\"y\")else False\n",
        "print(\"we are closing \")\n",
        "            \n",
        "        \n"
      ],
      "metadata": {
        "colab": {
          "base_uri": "https://localhost:8080/"
        },
        "id": "JEqCioY51UNE",
        "outputId": "26a52649-20f3-4b05-bafb-fe3cc1d7c006"
      },
      "execution_count": 5,
      "outputs": [
        {
          "output_type": "stream",
          "name": "stdout",
          "text": [
            "what is your name? futun\n",
            "our menu is\n",
            " 0 for burger. price 20$\n",
            " 1 for milkshake. price 10$\n",
            " 2 for salad. price 15$\n",
            " -1 to exit \n",
            "1\n",
            "our menu is\n",
            " 0 for burger. price 20$\n",
            " 1 for milkshake. price 10$\n",
            " 2 for salad. price 15$\n",
            " -1 to exit \n",
            "-1\n",
            "type your allergy, then exit \n",
            "penut\n",
            "exit\n",
            "add a note: i love milkshakes\n",
            "your order is ready. please pay: 100\n",
            "thanks for your order! take the change 90$\n",
            "name:futun\n",
            "order:\n",
            "milkshake: ['milk', 'strawberry']\n",
            "price: 10\n",
            "points: 5 \n",
            "note  ''i love milkshakes'' \n",
            "type y of resturent is busy: no\n",
            "we are closing \n"
          ]
        }
      ]
    }
  ]
}