{
  "nbformat": 4,
  "nbformat_minor": 0,
  "metadata": {
    "colab": {
      "provenance": []
    },
    "kernelspec": {
      "name": "python3",
      "display_name": "Python 3"
    },
    "language_info": {
      "name": "python"
    }
  },
  "cells": [
    {
      "cell_type": "markdown",
      "source": [
        "# week 2 goals\n",
        "1. sets\n",
        "2. condition and branching \n",
        "3. loops \n",
        "4. functions \n",
        "5. Exceptions Handling \n",
        "6. Objects and classes \n",
        "\n",
        "\n"
      ],
      "metadata": {
        "id": "BtynYgzIvU8k"
      }
    },
    {
      "cell_type": "markdown",
      "source": [
        "## sets\n",
        "sets it a type of data collections that is unordered and mutable. it is wrapped with {} with multiple values separated by \",\".\n",
        "\n",
        "#### creating a set\n",
        "\n"
      ],
      "metadata": {
        "id": "W1VrCg5rwRzE"
      }
    },
    {
      "cell_type": "code",
      "source": [
        "set1={\"one\",\"two\",\"three\", \"three\"}"
      ],
      "metadata": {
        "id": "9HkTeTBWyIAB"
      },
      "execution_count": null,
      "outputs": []
    }
  ]
}