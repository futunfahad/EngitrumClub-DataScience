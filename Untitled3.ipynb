{
  "nbformat": 4,
  "nbformat_minor": 0,
  "metadata": {
    "colab": {
      "provenance": []
    },
    "kernelspec": {
      "name": "python3",
      "display_name": "Python 3"
    },
    "language_info": {
      "name": "python"
    }
  },
  "cells": [
    {
      "cell_type": "code",
      "execution_count": null,
      "metadata": {
        "id": "0S-k8xwAskXl"
      },
      "outputs": [],
      "source": []
    },
    {
      "cell_type": "markdown",
      "source": [
        "test1"
      ],
      "metadata": {
        "id": "Jz3c-fHFsmCb"
      }
    },
    {
      "cell_type": "code",
      "source": [
        "print.(\"hello\")"
      ],
      "metadata": {
        "id": "Sy8vM5zVspYJ"
      },
      "execution_count": null,
      "outputs": []
    }
  ]
}